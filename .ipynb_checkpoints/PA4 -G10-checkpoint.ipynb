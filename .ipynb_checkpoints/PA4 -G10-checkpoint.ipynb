{
 "cells": [
  {
   "cell_type": "markdown",
   "id": "e2771e28",
   "metadata": {},
   "source": [
    "# DAT340 / DIT867 Applied Machine Learning\n",
    "## Programming assignment 4\n",
    "\n",
    "\n",
    "### Amr Mohamed\n",
    "#### Exchange student from CY Tech - France to GU CSE Department\n",
    "\n",
    "### Anh Thu DOAN\n",
    "#### Exchange student from CY Tech - France to GU CSE Department\n",
    "\n",
    "### Group 10"
   ]
  },
  {
   "cell_type": "markdown",
   "id": "657fd8f5",
   "metadata": {},
   "source": [
    "# Exercise question"
   ]
  },
  {
   "cell_type": "code",
   "execution_count": 1,
   "id": "6b60d404",
   "metadata": {},
   "outputs": [
    {
     "name": "stdout",
     "output_type": "stream",
     "text": [
      "1.0\n",
      "0.5\n"
     ]
    }
   ],
   "source": [
    "from sklearn.feature_extraction import DictVectorizer\n",
    "from sklearn.linear_model import Perceptron\n",
    "from sklearn.svm import LinearSVC\n",
    "from sklearn.metrics import accuracy_score\n",
    "from sklearn.pipeline import make_pipeline\n",
    "\n",
    "X1 = [{'city':'Gothenburg', 'month':'July'},\n",
    "      {'city':'Gothenburg', 'month':'December'},\n",
    "      {'city':'Paris', 'month':'July'},\n",
    "      {'city':'Paris', 'month':'December'}]\n",
    "Y1 = ['rain', 'rain', 'sun', 'rain']\n",
    "\n",
    "X2 = [{'city':'Sydney', 'month':'July'},\n",
    "      {'city':'Sydney', 'month':'December'},\n",
    "      {'city':'Paris', 'month':'July'},\n",
    "      {'city':'Paris', 'month':'December'}]\n",
    "Y2 = ['rain', 'sun', 'sun', 'rain']\n",
    "\n",
    "classifier1 = make_pipeline(DictVectorizer(), Perceptron(max_iter=10))\n",
    "classifier1.fit(X1, Y1)\n",
    "guesses1 = classifier1.predict(X1)\n",
    "print(accuracy_score(Y1, guesses1))\n",
    "\n",
    "classifier2 = make_pipeline(DictVectorizer(), Perceptron(max_iter=10))\n",
    "#classifier2 = make_pipeline(DictVectorizer(), LinearSVC())\n",
    "classifier2.fit(X2, Y2)\n",
    "guesses2 = classifier2.predict(X2)\n",
    "print(accuracy_score(Y2, guesses2))"
   ]
  },
  {
   "cell_type": "markdown",
   "id": "ccd52060",
   "metadata": {},
   "source": [
    "Let's set Rain = 1 & Sun = 0"
   ]
  },
  {
   "cell_type": "code",
   "execution_count": 2,
   "id": "a42c5947",
   "metadata": {},
   "outputs": [
    {
     "data": {
      "image/png": "[encoded data removed]",
      "text/plain": [
       "<Figure size 432x288 with 1 Axes>"
      ]
     },
     "metadata": {
      "needs_background": "light"
     },
     "output_type": "display_data"
    }
   ],
   "source": [
    "import pandas as pd\n",
    "import matplotlib.pyplot as plt\n",
    "GP = pd.DataFrame([['Gothenburg', 'July', 1], \n",
    "                   ['Gothenburg', 'December', 1], \n",
    "                   ['Paris', 'July', 0], \n",
    "                   ['Paris', 'December', 1]],\n",
    "                columns = ['City', 'Month', 'Weather'])\n",
    "plt.scatter(GP['City'], GP['Month'], c = GP['Weather'], cmap = 'PiYG');"
   ]
  },
  {
   "cell_type": "markdown",
   "id": "5865b201",
   "metadata": {},
   "source": [
    "As shown as in the graph above, the data of Gothenburg and Paris weather is linear separable, then the model perceptron find a separating line in the graph which helps the model a perfect classification"
   ]
  },
  {
   "cell_type": "code",
   "execution_count": 3,
   "id": "bb74aa31",
   "metadata": {},
   "outputs": [
    {
     "data": {
      "image/png": "[encoded data removed]",
      "text/plain": [
       "<Figure size 432x288 with 1 Axes>"
      ]
     },
     "metadata": {
      "needs_background": "light"
     },
     "output_type": "display_data"
    }
   ],
   "source": [
    "SP = pd.DataFrame([['Sydney', 'July', 1], \n",
    "                   ['Sydney', 'December', 0], \n",
    "                   ['Paris', 'July', 0], \n",
    "                   ['Paris', 'December', 1]],\n",
    "                columns = ['City', 'Month', 'Weather'])\n",
    "plt.scatter(SP['City'], SP['Month'], c = SP['Weather'], cmap = 'PiYG');"
   ]
  },
  {
   "cell_type": "markdown",
   "id": "4f7a00ee",
   "metadata": {},
   "source": [
    "It is impossible in this case if we want to have a linear separator line to distinguish between the rain weather and sun weather. That is why they cannot be solved using a linear decision boundary"
   ]
  },
  {
   "cell_type": "markdown",
   "id": "b6111534",
   "metadata": {},
   "source": [
    "# Linear Classifiers implementation"
   ]
  },
  {
   "cell_type": "code",
   "execution_count": 4,
   "id": "60116f49",
   "metadata": {},
   "outputs": [],
   "source": [
    "import pandas as pd \n",
    "import numpy as np\n",
    "import random\n",
    "from sklearn.base import BaseEstimator\n",
    "from numpy import linalg as LA\n",
    "import matplotlib.pyplot as plt\n",
    "\n",
    "import time\n",
    "\n",
    "from sklearn.feature_extraction.text import TfidfVectorizer\n",
    "from sklearn.preprocessing import Normalizer\n",
    "from sklearn.pipeline import make_pipeline\n",
    "from sklearn.feature_selection import SelectKBest\n",
    "from sklearn.metrics import accuracy_score\n",
    "from sklearn.model_selection import train_test_split\n",
    "\n",
    "from aml_perceptron import Perceptron, SparsePerceptron\n",
    "import scipy.linalg.blas as blas"
   ]
  },
  {
   "cell_type": "code",
   "execution_count": 5,
   "id": "6aaf4676",
   "metadata": {},
   "outputs": [],
   "source": [
    "class LinearClassifier(BaseEstimator):\n",
    "    \"\"\"\n",
    "    General class for binary linear classifiers. Implements the predict\n",
    "    function, which is the same for all binary linear classifiers. There are\n",
    "    also two utility functions.\n",
    "    \"\"\"\n",
    "\n",
    "    def decision_function(self, X):\n",
    "        \"\"\"\n",
    "        Computes the decision function for the inputs X. The inputs are assumed to be\n",
    "        stored in a matrix, where each row contains the features for one\n",
    "        instance.\n",
    "        \"\"\"\n",
    "        return X.dot(self.w)\n",
    "\n",
    "    def predict(self, X):\n",
    "        \"\"\"\n",
    "        Predicts the outputs for the inputs X. The inputs are assumed to be\n",
    "        stored in a matrix, where each row contains the features for one\n",
    "        instance.\n",
    "        \"\"\"\n",
    "\n",
    "        # First compute the output scores\n",
    "        scores = self.decision_function(X)\n",
    "\n",
    "        # Select the positive or negative class label, depending on whether\n",
    "        # the score was positive or negative.\n",
    "        out = np.select([scores >= 0.0, scores < 0.0],\n",
    "                        [self.positive_class,\n",
    "                         self.negative_class])\n",
    "        return out\n",
    "\n",
    "    def find_classes(self, Y):\n",
    "        \"\"\"\n",
    "        Finds the set of output classes in the output part Y of the training set.\n",
    "        If there are exactly two classes, one of them is associated to positive\n",
    "        classifier scores, the other one to negative scores. If the number of\n",
    "        classes is not 2, an error is raised.\n",
    "        \"\"\"\n",
    "        classes = sorted(set(Y))\n",
    "        if len(classes) != 2:\n",
    "            raise Exception(\"this does not seem to be a 2-class problem\")\n",
    "        self.positive_class = classes[1]\n",
    "        self.negative_class = classes[0]\n",
    "\n",
    "    def encode_outputs(self, Y):\n",
    "        \"\"\"\n",
    "        A helper function that converts all outputs to +1 or -1.\n",
    "        \"\"\"\n",
    "        return np.array([1 if y == self.positive_class else -1 for y in Y])"
   ]
  },
  {
   "cell_type": "markdown",
   "id": "1cef1e2f",
   "metadata": {},
   "source": [
    "# Implementing the SVC"
   ]
  },
  {
   "cell_type": "code",
   "execution_count": 6,
   "id": "33ed2938",
   "metadata": {},
   "outputs": [],
   "source": [
    "class SVC(LinearClassifier):\n",
    "    \"\"\"\n",
    "    A straightforward implementation of the perceptron learning algorithm.\n",
    "    \"\"\"\n",
    "\n",
    "    def __init__(self, n_iter=7000,Lambda=0.001,eta=0.001):\n",
    "        \"\"\"\n",
    "        The constructor can optionally take a parameter n_iter specifying how\n",
    "        many times we want to iterate through the training set.\n",
    "        \"\"\"\n",
    "        self.n_iter = n_iter\n",
    "        self.Lambda = Lambda\n",
    "        self.eta = eta\n",
    "    \n",
    "\n",
    "    def fit(self, X, Y):\n",
    "        \"\"\"\n",
    "        Train a linear classifier using the perceptron learning algorithm.\n",
    "        \"\"\"\n",
    "\n",
    "        # First determine which output class will be associated with positive\n",
    "        # and negative scores, respectively.\n",
    "        self.find_classes(Y)\n",
    "\n",
    "        # Convert all outputs to +1 (for the positive class) or -1 (negative).\n",
    "        Ye = self.encode_outputs(Y)\n",
    "\n",
    "        # If necessary, convert the sparse matrix returned by a vectorizer\n",
    "        # into a normal NumPy matrix.\n",
    "        if not isinstance(X, np.ndarray):\n",
    "            X = X.toarray()\n",
    "\n",
    "        # Initialize the weight vector to all zeros.\n",
    "        n_features = X.shape[1]\n",
    "        \n",
    "        n_instances = X.shape[0]\n",
    "        \n",
    "        self.w = np.zeros(n_features)\n",
    "        \n",
    "    \n",
    "        # convert the data to a list of tuples of (features, label)\n",
    "        data = list(zip(X, Ye))\n",
    "        \n",
    "        # create a random subset of indices of the data to be looped on,\n",
    "        # and avoid looping over the while dataset\n",
    "        T = np.random.choice(len(data),self.n_iter,replace = False)\n",
    "        \n",
    "        # initialize empty lists to add in the hingeloss and \n",
    "        # the score while looping over the rows of the data subset\n",
    "        hingeLoss=[]\n",
    "        scoreList=[]\n",
    "        \n",
    "        for i in range (self.n_iter):\n",
    "            \n",
    "            # increment the value t by 1\n",
    "            t = i+1\n",
    "            \n",
    "            # assign the features of the row to x and the corresponding label to y\n",
    "            x= data[T[i]][0]\n",
    "            y = data[T[i]][1]\n",
    "            \n",
    "            # calculate the value of the learning rate eta\n",
    "            eta = 1/(self.Lambda*t)\n",
    "            \n",
    "            # calculate the score\n",
    "            score = x.dot(self.w)\n",
    "            \n",
    "            # case when y*score is less than oner\n",
    "            if y*(score) <1:\n",
    "                self.w = (1-eta*self.Lambda)*self.w + eta*y*x\n",
    "                hingeLoss.append(1-y*score)\n",
    "                \n",
    "            else:\n",
    "                self.w = (1-eta*self.Lambda)*self.w\n",
    "                hingeLoss.append(0)\n",
    "            \n",
    "            #print the objective function value every 500 epochs\n",
    "            if i%500==0 and i != 0:\n",
    "                # print objective function at epoch i as \n",
    "                # average of hinge loss at \n",
    "                #i + the regularization paramete lambda/2*||w||^2\n",
    "                print( \"The objective function at epoch \" +\n",
    "                      str(i)+': '+str(np.mean(hingeLoss)+(self.Lambda/2)*(self.w.dot(self.w))))\n",
    "                    \n",
    "                    \n",
    "            scoreList.append(y*score)"
   ]
  },
  {
   "cell_type": "code",
   "execution_count": 7,
   "id": "9436d000",
   "metadata": {
    "scrolled": false
   },
   "outputs": [
    {
     "name": "stdout",
     "output_type": "stream",
     "text": [
      "The objective function at epoch 500: 2.1093346739138408\n",
      "The objective function at epoch 1000: 1.3733997935495377\n",
      "The objective function at epoch 1500: 1.1153469968943848\n",
      "The objective function at epoch 2000: 0.9973700636868987\n",
      "The objective function at epoch 2500: 0.9182607952887099\n",
      "The objective function at epoch 3000: 0.8578378180620712\n",
      "The objective function at epoch 3500: 0.8148217869603449\n",
      "The objective function at epoch 4000: 0.7812737453886232\n",
      "The objective function at epoch 4500: 0.7552565618422875\n",
      "The objective function at epoch 5000: 0.7341820226576719\n",
      "The objective function at epoch 5500: 0.7173118544366207\n",
      "The objective function at epoch 6000: 0.7060062114308036\n",
      "The objective function at epoch 6500: 0.6979402878923979\n",
      "\n",
      "\n",
      "Training time of SVC algorithm: 1.39 sec.\n",
      "Accuracy of SVC algorithm: 0.7885.\n"
     ]
    }
   ],
   "source": [
    "# This function reads the corpus, \n",
    "#returns a list of documents, and a list\n",
    "# of their corresponding polarity labels. \n",
    "def read_data(corpus_file):\n",
    "    X = []\n",
    "    Y = []\n",
    "    with open(corpus_file, encoding='utf-8') as f:\n",
    "        for line in f:\n",
    "            _, y, _, x = line.split(maxsplit=3)\n",
    "            X.append(x.strip())\n",
    "            Y.append(y)\n",
    "    return X, Y\n",
    "\n",
    "\n",
    "if __name__ == '__main__':\n",
    "    \n",
    "    # Read all the documents.\n",
    "    X, Y = read_data('data/all_sentiment_shuffled.txt')\n",
    "    \n",
    "    # Split into training and test parts.\n",
    "    Xtrain, Xtest, Ytrain, Ytest = train_test_split(X, Y, test_size=0.2,random_state=0)\n",
    "\n",
    "# function to calculate the training time and accuracy of the model    \n",
    "def model_report(pipeline, s):\n",
    "    # Train the classifier.\n",
    "    t0 = time.time()\n",
    "    pipeline.fit(Xtrain, Ytrain)\n",
    "    t1 = time.time()\n",
    "    print('\\n')\n",
    "    print('Training time of '+s+' algorithm: {:.2f} sec.'.format(t1-t0))\n",
    "\n",
    "    # Evaluate on the test set.\n",
    "    Yguess = pipeline.predict(Xtest)\n",
    "    print('Accuracy of '+s+' algorithm: {:.4f}.'.format(accuracy_score(Ytest, Yguess)))\n",
    "\n",
    "\n",
    "\n",
    "# Set up the preprocessing steps for the SVC model\n",
    "pipeline = make_pipeline(\n",
    "    TfidfVectorizer(),\n",
    "    SelectKBest(k=1000),\n",
    "    Normalizer(),\n",
    "    SVC()\n",
    ")\n",
    "\n",
    "model_report(pipeline,'SVC')"
   ]
  },
  {
   "cell_type": "markdown",
   "id": "89169e38",
   "metadata": {},
   "source": [
    "# Logistic Regression"
   ]
  },
  {
   "cell_type": "code",
   "execution_count": 8,
   "id": "8a183e21",
   "metadata": {},
   "outputs": [],
   "source": [
    "class LogisticRegression(LinearClassifier):\n",
    "    \"\"\"\n",
    "    A straightforward implementation of the perceptron learning algorithm.\n",
    "    \"\"\"\n",
    "\n",
    "    def __init__(self, n_iter=7000,Lambda=0.001,eta=0.001):\n",
    "        \"\"\"\n",
    "        The constructor can optionally take a parameter n_iter specifying how\n",
    "        many times we want to iterate through the training set.\n",
    "        \"\"\"\n",
    "        self.n_iter = n_iter\n",
    "        self.Lambda = Lambda\n",
    "        self.eta = eta\n",
    "    \n",
    "\n",
    "    def fit(self, X, Y):\n",
    "        \"\"\"\n",
    "        Train a linear classifier using the perceptron learning algorithm.\n",
    "        \"\"\"\n",
    "\n",
    "        # First determine which output class will be associated with positive\n",
    "        # and negative scores, respectively.\n",
    "        self.find_classes(Y)\n",
    "\n",
    "        # Convert all outputs to +1 (for the positive class) or -1 (negative).\n",
    "        Ye = self.encode_outputs(Y)\n",
    "\n",
    "        # If necessary, convert the sparse matrix returned by a vectorizer\n",
    "        # into a normal NumPy matrix.\n",
    "        if not isinstance(X, np.ndarray):\n",
    "            X = X.toarray()\n",
    "\n",
    "        # Initialize the weight vector to all zeros.\n",
    "        n_features = X.shape[1]\n",
    "        \n",
    "        n_instances = X.shape[0]\n",
    "        \n",
    "        self.w = np.zeros(n_features)\n",
    "        \n",
    "        data = list(zip(X, Ye))\n",
    "        \n",
    "        T = np.random.choice(len(data),self.n_iter,replace = False)\n",
    "        \n",
    "        loss = []\n",
    "        scoreList=[]\n",
    "        \n",
    "        for i in range (self.n_iter):\n",
    "            \n",
    "            t = i+1\n",
    "            \n",
    "            x= data[T[i]][0]\n",
    "            y = data[T[i]][1]\n",
    "            \n",
    "            eta = 1/(self.Lambda*t)\n",
    "            \n",
    "            score = x.dot(self.w)\n",
    "            \n",
    "            # compute gradient of the loss function\n",
    "            gradLoss = -y/(1+np.exp(y*score))*x\n",
    "            \n",
    "            # compute gradient of f(w,x,y)\n",
    "            gradientF = self.Lambda*self.w + gradLoss\n",
    "            \n",
    "            # update w = w- eta* gradient\n",
    "            self.w = self.w - eta*gradientF\n",
    "            \n",
    "            scoreList.append(y*score)\n",
    "      \n",
    "            loss.append(np.log(1+np.exp(-y*score)))\n",
    "            \n",
    "            if i%500==0 and i != 0:\n",
    "                # print objective function at epoch i as \n",
    "                # average of hinge loss at i + the regularization paramete lambda/2*||w||^2\n",
    "                print( \"The objective function at epoch \" +str(i)+': '+str(np.mean(loss)+(self.Lambda/2)*(self.w.dot(self.w))))"
   ]
  },
  {
   "cell_type": "code",
   "execution_count": 9,
   "id": "061977b1",
   "metadata": {},
   "outputs": [
    {
     "name": "stdout",
     "output_type": "stream",
     "text": [
      "The objective function at epoch 500: 1.423457584085375\n",
      "The objective function at epoch 1000: 0.9854281800166584\n",
      "The objective function at epoch 1500: 0.8407117366878853\n",
      "The objective function at epoch 2000: 0.7676488243182462\n",
      "The objective function at epoch 2500: 0.7232725876423908\n",
      "The objective function at epoch 3000: 0.6964277720384433\n",
      "The objective function at epoch 3500: 0.6760239985321552\n",
      "The objective function at epoch 4000: 0.6602233767112824\n",
      "The objective function at epoch 4500: 0.6477745796665769\n",
      "The objective function at epoch 5000: 0.6375924369459364\n",
      "The objective function at epoch 5500: 0.6301447780719349\n",
      "The objective function at epoch 6000: 0.6232327880307276\n",
      "The objective function at epoch 6500: 0.617639581246626\n",
      "\n",
      "\n",
      "Training time of Logistic Regression algorithm: 1.32 sec.\n",
      "Accuracy of Logistic Regression algorithm: 0.8028.\n"
     ]
    }
   ],
   "source": [
    "# Set up the preprocessing steps for the logistic regression model.\n",
    "pipeline = make_pipeline(\n",
    "    TfidfVectorizer(),\n",
    "    SelectKBest(k=1000),\n",
    "    Normalizer(), \n",
    "    LogisticRegression()\n",
    ")\n",
    "\n",
    "model_report(pipeline,'Logistic Regression')"
   ]
  },
  {
   "cell_type": "markdown",
   "id": "3b6089a6",
   "metadata": {},
   "source": [
    "# Bonus task 1. Making your code more efficient"
   ]
  },
  {
   "cell_type": "markdown",
   "id": "01b2c38f",
   "metadata": {},
   "source": [
    "### (a) Faster linear algebra operations"
   ]
  },
  {
   "cell_type": "markdown",
   "id": "d57cd838",
   "metadata": {},
   "source": [
    "### Implementing the SVC algorithm with blas functions"
   ]
  },
  {
   "cell_type": "code",
   "execution_count": 10,
   "id": "faee18c2",
   "metadata": {},
   "outputs": [],
   "source": [
    "class BlasSVC(LinearClassifier):\n",
    "    \"\"\"\n",
    "    A straightforward implementation of the perceptron learning algorithm.\n",
    "    \"\"\"\n",
    "\n",
    "    def __init__(self, n_iter=7000,Lambda=0.001,eta=0.001):\n",
    "        \"\"\"\n",
    "        The constructor can optionally take a parameter n_iter specifying how\n",
    "        many times we want to iterate through the training set.\n",
    "        \"\"\"\n",
    "        self.n_iter = n_iter\n",
    "        self.Lambda = Lambda\n",
    "        self.eta = eta\n",
    "    \n",
    "\n",
    "    def fit(self, X, Y):\n",
    "        \"\"\"\n",
    "        Train a linear classifier using the perceptron learning algorithm.\n",
    "        \"\"\"\n",
    "\n",
    "        # First determine which output class will be associated with positive\n",
    "        # and negative scores, respectively.\n",
    "        self.find_classes(Y)\n",
    "\n",
    "        # Convert all outputs to +1 (for the positive class) or -1 (negative).\n",
    "        Ye = self.encode_outputs(Y)\n",
    "\n",
    "        # If necessary, convert the sparse matrix returned by a vectorizer\n",
    "        # into a normal NumPy matrix.\n",
    "        if not isinstance(X, np.ndarray):\n",
    "            X = X.toarray()\n",
    "\n",
    "        # Initialize the weight vector to all zeros.\n",
    "        n_features = X.shape[1]\n",
    "        \n",
    "        n_instances = X.shape[0]\n",
    "        \n",
    "        self.w = np.zeros(n_features)\n",
    "        \n",
    "        data = list(zip(X, Ye))\n",
    "        \n",
    "        T = np.random.choice(len(data),self.n_iter,replace = False)\n",
    "        \n",
    "        hingeLoss=[]\n",
    "        scoreList=[]\n",
    "        \n",
    "        for i in range (self.n_iter):\n",
    "            \n",
    "            t = i+1\n",
    "            \n",
    "            x= data[T[i]][0]\n",
    "            y = data[T[i]][1]\n",
    "            \n",
    "            eta = 1/(self.Lambda*t)\n",
    "            \n",
    "            # computing the score x.w\n",
    "            score = blas.ddot(x,self.w)\n",
    "            \n",
    "            #y.(x.w)\n",
    "            Yscore = blas.ddot(y,score)\n",
    "            \n",
    "            if Yscore <1:\n",
    "                self.w = blas.dscal((1-eta*self.Lambda),self.w) + eta*y*x\n",
    "                \n",
    "            else:\n",
    "                blas.dscal((1-eta*self.Lambda),self.w)"
   ]
  },
  {
   "cell_type": "code",
   "execution_count": 11,
   "id": "a0253ff9",
   "metadata": {
    "scrolled": false
   },
   "outputs": [
    {
     "name": "stdout",
     "output_type": "stream",
     "text": [
      "\n",
      "\n",
      "Training time of Blas SVC algorithm: 1.21 sec.\n",
      "Accuracy of Blas SVC algorithm: 0.8141.\n"
     ]
    }
   ],
   "source": [
    "# Set up the preprocessing steps and the classifier.\n",
    "pipeline = make_pipeline(\n",
    "    TfidfVectorizer(),\n",
    "    SelectKBest(k=1000),\n",
    "    Normalizer(),\n",
    "    BlasSVC()\n",
    ")\n",
    "\n",
    "model_report(pipeline,'Blas SVC')"
   ]
  },
  {
   "cell_type": "markdown",
   "id": "f513f224",
   "metadata": {},
   "source": [
    "Using blas functions for the SVC model implementation, the model achieved approximately the same accuracy as the first implementation of the model using numpy function in 87% of the time."
   ]
  },
  {
   "cell_type": "code",
   "execution_count": 12,
   "id": "93b35224",
   "metadata": {},
   "outputs": [],
   "source": [
    "class BlasLogisticRegression(LinearClassifier):\n",
    "    \"\"\"\n",
    "    A straightforward implementation of the perceptron learning algorithm.\n",
    "    \"\"\"\n",
    "\n",
    "    def __init__(self, n_iter=7000,Lambda=0.001,eta=0.001):\n",
    "        \"\"\"\n",
    "        The constructor can optionally take a parameter n_iter specifying how\n",
    "        many times we want to iterate through the training set.\n",
    "        \"\"\"\n",
    "        self.n_iter = n_iter\n",
    "        self.Lambda = Lambda\n",
    "        self.eta = eta\n",
    "    \n",
    "\n",
    "    def fit(self, X, Y):\n",
    "        \"\"\"\n",
    "        Train a linear classifier using the perceptron learning algorithm.\n",
    "        \"\"\"\n",
    "\n",
    "        # First determine which output class will be associated with positive\n",
    "        # and negative scores, respectively.\n",
    "        self.find_classes(Y)\n",
    "\n",
    "        # Convert all outputs to +1 (for the positive class) or -1 (negative).\n",
    "        Ye = self.encode_outputs(Y)\n",
    "\n",
    "        # If necessary, convert the sparse matrix returned by a vectorizer\n",
    "        # into a normal NumPy matrix.\n",
    "        if not isinstance(X, np.ndarray):\n",
    "            X = X.toarray()\n",
    "\n",
    "        # Initialize the weight vector to all zeros.\n",
    "        n_features = X.shape[1]\n",
    "        \n",
    "        n_instances = X.shape[0]\n",
    "        \n",
    "        self.w = np.zeros(n_features)\n",
    "        \n",
    "        data = list(zip(X, Ye))\n",
    "        \n",
    "        T = np.random.choice(len(data),self.n_iter,replace = False)\n",
    "        \n",
    "        loss = []\n",
    "        scoreList=[]\n",
    "        \n",
    "        for i in range (self.n_iter):\n",
    "            \n",
    "            t = i+1\n",
    "            \n",
    "            x= data[T[i]][0]\n",
    "            y = data[T[i]][1]\n",
    "            \n",
    "            eta = 1/(self.Lambda*t)\n",
    "            \n",
    "            # computing the score x.w\n",
    "            score = blas.ddot(x,self.w)\n",
    "            \n",
    "            # compute gradient of the loss function\n",
    "            gradLoss = -1/(1+np.exp(blas.ddot(y,score)))*blas.dscal(y,x)\n",
    "            \n",
    "            # compute gradient of f(w,x,y)\n",
    "            gradientF = self.Lambda*self.w + gradLoss\n",
    "            \n",
    "            # update w = w- eta* gradient\n",
    "            self.w = self.w - blas.dscal(eta,gradientF)\n"
   ]
  },
  {
   "cell_type": "code",
   "execution_count": 13,
   "id": "68d192f9",
   "metadata": {},
   "outputs": [
    {
     "name": "stdout",
     "output_type": "stream",
     "text": [
      "\n",
      "\n",
      "Training time of Blas Logistic Regression algorithm: 1.21 sec.\n",
      "Accuracy of Blas Logistic Regression algorithm: 0.8036.\n"
     ]
    }
   ],
   "source": [
    "# Set up the preprocessing steps and the classifier.\n",
    "pipeline = make_pipeline(\n",
    "    TfidfVectorizer(),\n",
    "    SelectKBest(k=1000),\n",
    "    Normalizer(), \n",
    "    BlasLogisticRegression()\n",
    ")\n",
    "\n",
    "model_report(pipeline,'Blas Logistic Regression')"
   ]
  },
  {
   "cell_type": "markdown",
   "id": "7292d81d",
   "metadata": {},
   "source": [
    "Using blas functions for the Logistic Regression model implementation, the model achieved approximately the same accuracy as the first implementation of the model using numpy function in 80% of the time."
   ]
  },
  {
   "cell_type": "markdown",
   "id": "136b4491",
   "metadata": {},
   "source": [
    "### (b) Using sparse vectors"
   ]
  },
  {
   "cell_type": "markdown",
   "id": "26175b6c",
   "metadata": {},
   "source": [
    "#### The feature selector function SelectKbest removal"
   ]
  },
  {
   "cell_type": "code",
   "execution_count": 14,
   "id": "2c4735c2",
   "metadata": {
    "scrolled": true
   },
   "outputs": [
    {
     "name": "stdout",
     "output_type": "stream",
     "text": [
      "The objective function at epoch 500: 1.8042475962117852\n",
      "The objective function at epoch 1000: 1.3022369246398227\n",
      "The objective function at epoch 1500: 1.1318777588910853\n",
      "The objective function at epoch 2000: 1.0472191667702742\n",
      "The objective function at epoch 2500: 0.9892850549065264\n",
      "The objective function at epoch 3000: 0.9356887647167669\n",
      "The objective function at epoch 3500: 0.9052924694129518\n",
      "The objective function at epoch 4000: 0.8837199693828823\n",
      "The objective function at epoch 4500: 0.8665547039238427\n",
      "The objective function at epoch 5000: 0.8510783209353502\n",
      "The objective function at epoch 5500: 0.8376343402253094\n",
      "The objective function at epoch 6000: 0.8261419655027957\n",
      "The objective function at epoch 6500: 0.8191375758879299\n",
      "\n",
      "\n",
      "Training time of SVC algorithm: 5.95 sec.\n",
      "Accuracy of SVC algorithm: 0.8049.\n"
     ]
    }
   ],
   "source": [
    "# Set up the preprocessing steps and the classifier.\n",
    "pipeline = make_pipeline(\n",
    "    TfidfVectorizer(),\n",
    "    Normalizer(), \n",
    "    SVC()\n",
    ")\n",
    "\n",
    "model_report(pipeline,'SVC')"
   ]
  },
  {
   "cell_type": "code",
   "execution_count": 15,
   "id": "5a3a0d5d",
   "metadata": {
    "scrolled": true
   },
   "outputs": [
    {
     "name": "stdout",
     "output_type": "stream",
     "text": [
      "The objective function at epoch 500: 1.2748551482132848\n",
      "The objective function at epoch 1000: 0.9483367143141226\n",
      "The objective function at epoch 1500: 0.8383922861820766\n",
      "The objective function at epoch 2000: 0.7841647684034594\n",
      "The objective function at epoch 2500: 0.7510567741276726\n",
      "The objective function at epoch 3000: 0.7296668869646726\n",
      "The objective function at epoch 3500: 0.7139694500335456\n",
      "The objective function at epoch 4000: 0.7024043350455775\n",
      "The objective function at epoch 4500: 0.6937145391624152\n",
      "The objective function at epoch 5000: 0.6866554050162179\n",
      "The objective function at epoch 5500: 0.6804887991984727\n",
      "The objective function at epoch 6000: 0.6755866517160799\n",
      "The objective function at epoch 6500: 0.6713809900019396\n",
      "\n",
      "\n",
      "Training time of  Logistic Regression algorithm: 5.80 sec.\n",
      "Accuracy of  Logistic Regression algorithm: 0.7734.\n"
     ]
    }
   ],
   "source": [
    "# Set up the preprocessing steps and the classifier.\n",
    "pipeline = make_pipeline(\n",
    "    TfidfVectorizer(),\n",
    "    Normalizer(), \n",
    "    LogisticRegression()\n",
    ")\n",
    "model_report(pipeline,' Logistic Regression')"
   ]
  },
  {
   "cell_type": "markdown",
   "id": "25a8debb",
   "metadata": {},
   "source": [
    "By removing the feature selection function SelectKbest from the models training pipeline, we noticed that the models achieved approximately the same accuracy as when the function was included in the pipeline, which may mean that all the features (terms) are important for the model classification task performance, while the training time for each of both models (SVC and Logistic Regression) increase by approximately 4-5 times."
   ]
  },
  {
   "cell_type": "markdown",
   "id": "0bfe7af7",
   "metadata": {},
   "source": [
    "### Training time and accuracy differences by adding both of the bigrams and unigrams to the tfidf vectorizer"
   ]
  },
  {
   "cell_type": "code",
   "execution_count": 16,
   "id": "820b43f0",
   "metadata": {
    "scrolled": true
   },
   "outputs": [
    {
     "ename": "MemoryError",
     "evalue": "Unable to allocate 34.1 GiB for an array with shape (9531, 480514) and data type float64",
     "output_type": "error",
     "traceback": [
      "\u001b[1;31m---------------------------------------------------------------------------\u001b[0m",
      "\u001b[1;31mMemoryError\u001b[0m                               Traceback (most recent call last)",
      "Input \u001b[1;32mIn [16]\u001b[0m, in \u001b[0;36m<cell line: 8>\u001b[1;34m()\u001b[0m\n\u001b[0;32m      1\u001b[0m \u001b[38;5;66;03m# Set up the preprocessing steps and the classifier.\u001b[39;00m\n\u001b[0;32m      2\u001b[0m pipeline \u001b[38;5;241m=\u001b[39m make_pipeline(\n\u001b[0;32m      3\u001b[0m     TfidfVectorizer(ngram_range\u001b[38;5;241m=\u001b[39m(\u001b[38;5;241m1\u001b[39m,\u001b[38;5;241m2\u001b[39m)),\n\u001b[0;32m      4\u001b[0m     Normalizer(), \n\u001b[0;32m      5\u001b[0m     SVC()\n\u001b[0;32m      6\u001b[0m )\n\u001b[1;32m----> 8\u001b[0m \u001b[43mmodel_report\u001b[49m\u001b[43m(\u001b[49m\u001b[43mpipeline\u001b[49m\u001b[43m,\u001b[49m\u001b[38;5;124;43m'\u001b[39;49m\u001b[38;5;124;43mSVC\u001b[39;49m\u001b[38;5;124;43m'\u001b[39;49m\u001b[43m)\u001b[49m\n",
      "Input \u001b[1;32mIn [7]\u001b[0m, in \u001b[0;36mmodel_report\u001b[1;34m(pipeline, s)\u001b[0m\n\u001b[0;32m     24\u001b[0m \u001b[38;5;28;01mdef\u001b[39;00m \u001b[38;5;21mmodel_report\u001b[39m(pipeline, s):\n\u001b[0;32m     25\u001b[0m     \u001b[38;5;66;03m# Train the classifier.\u001b[39;00m\n\u001b[0;32m     26\u001b[0m     t0 \u001b[38;5;241m=\u001b[39m time\u001b[38;5;241m.\u001b[39mtime()\n\u001b[1;32m---> 27\u001b[0m     \u001b[43mpipeline\u001b[49m\u001b[38;5;241;43m.\u001b[39;49m\u001b[43mfit\u001b[49m\u001b[43m(\u001b[49m\u001b[43mXtrain\u001b[49m\u001b[43m,\u001b[49m\u001b[43m \u001b[49m\u001b[43mYtrain\u001b[49m\u001b[43m)\u001b[49m\n\u001b[0;32m     28\u001b[0m     t1 \u001b[38;5;241m=\u001b[39m time\u001b[38;5;241m.\u001b[39mtime()\n\u001b[0;32m     29\u001b[0m     \u001b[38;5;28mprint\u001b[39m(\u001b[38;5;124m'\u001b[39m\u001b[38;5;130;01m\\n\u001b[39;00m\u001b[38;5;124m'\u001b[39m)\n",
      "File \u001b[1;32mH:\\Users\\Administrator\\lib\\site-packages\\sklearn\\pipeline.py:394\u001b[0m, in \u001b[0;36mPipeline.fit\u001b[1;34m(self, X, y, **fit_params)\u001b[0m\n\u001b[0;32m    392\u001b[0m     \u001b[38;5;28;01mif\u001b[39;00m \u001b[38;5;28mself\u001b[39m\u001b[38;5;241m.\u001b[39m_final_estimator \u001b[38;5;241m!=\u001b[39m \u001b[38;5;124m\"\u001b[39m\u001b[38;5;124mpassthrough\u001b[39m\u001b[38;5;124m\"\u001b[39m:\n\u001b[0;32m    393\u001b[0m         fit_params_last_step \u001b[38;5;241m=\u001b[39m fit_params_steps[\u001b[38;5;28mself\u001b[39m\u001b[38;5;241m.\u001b[39msteps[\u001b[38;5;241m-\u001b[39m\u001b[38;5;241m1\u001b[39m][\u001b[38;5;241m0\u001b[39m]]\n\u001b[1;32m--> 394\u001b[0m         \u001b[38;5;28mself\u001b[39m\u001b[38;5;241m.\u001b[39m_final_estimator\u001b[38;5;241m.\u001b[39mfit(Xt, y, \u001b[38;5;241m*\u001b[39m\u001b[38;5;241m*\u001b[39mfit_params_last_step)\n\u001b[0;32m    396\u001b[0m \u001b[38;5;28;01mreturn\u001b[39;00m \u001b[38;5;28mself\u001b[39m\n",
      "Input \u001b[1;32mIn [6]\u001b[0m, in \u001b[0;36mSVC.fit\u001b[1;34m(self, X, Y)\u001b[0m\n\u001b[0;32m     28\u001b[0m \u001b[38;5;66;03m# If necessary, convert the sparse matrix returned by a vectorizer\u001b[39;00m\n\u001b[0;32m     29\u001b[0m \u001b[38;5;66;03m# into a normal NumPy matrix.\u001b[39;00m\n\u001b[0;32m     30\u001b[0m \u001b[38;5;28;01mif\u001b[39;00m \u001b[38;5;129;01mnot\u001b[39;00m \u001b[38;5;28misinstance\u001b[39m(X, np\u001b[38;5;241m.\u001b[39mndarray):\n\u001b[1;32m---> 31\u001b[0m     X \u001b[38;5;241m=\u001b[39m \u001b[43mX\u001b[49m\u001b[38;5;241;43m.\u001b[39;49m\u001b[43mtoarray\u001b[49m\u001b[43m(\u001b[49m\u001b[43m)\u001b[49m\n\u001b[0;32m     33\u001b[0m \u001b[38;5;66;03m# Initialize the weight vector to all zeros.\u001b[39;00m\n\u001b[0;32m     34\u001b[0m n_features \u001b[38;5;241m=\u001b[39m X\u001b[38;5;241m.\u001b[39mshape[\u001b[38;5;241m1\u001b[39m]\n",
      "File \u001b[1;32mH:\\Users\\Administrator\\lib\\site-packages\\scipy\\sparse\\compressed.py:1039\u001b[0m, in \u001b[0;36m_cs_matrix.toarray\u001b[1;34m(self, order, out)\u001b[0m\n\u001b[0;32m   1037\u001b[0m \u001b[38;5;28;01mif\u001b[39;00m out \u001b[38;5;129;01mis\u001b[39;00m \u001b[38;5;28;01mNone\u001b[39;00m \u001b[38;5;129;01mand\u001b[39;00m order \u001b[38;5;129;01mis\u001b[39;00m \u001b[38;5;28;01mNone\u001b[39;00m:\n\u001b[0;32m   1038\u001b[0m     order \u001b[38;5;241m=\u001b[39m \u001b[38;5;28mself\u001b[39m\u001b[38;5;241m.\u001b[39m_swap(\u001b[38;5;124m'\u001b[39m\u001b[38;5;124mcf\u001b[39m\u001b[38;5;124m'\u001b[39m)[\u001b[38;5;241m0\u001b[39m]\n\u001b[1;32m-> 1039\u001b[0m out \u001b[38;5;241m=\u001b[39m \u001b[38;5;28;43mself\u001b[39;49m\u001b[38;5;241;43m.\u001b[39;49m\u001b[43m_process_toarray_args\u001b[49m\u001b[43m(\u001b[49m\u001b[43morder\u001b[49m\u001b[43m,\u001b[49m\u001b[43m \u001b[49m\u001b[43mout\u001b[49m\u001b[43m)\u001b[49m\n\u001b[0;32m   1040\u001b[0m \u001b[38;5;28;01mif\u001b[39;00m \u001b[38;5;129;01mnot\u001b[39;00m (out\u001b[38;5;241m.\u001b[39mflags\u001b[38;5;241m.\u001b[39mc_contiguous \u001b[38;5;129;01mor\u001b[39;00m out\u001b[38;5;241m.\u001b[39mflags\u001b[38;5;241m.\u001b[39mf_contiguous):\n\u001b[0;32m   1041\u001b[0m     \u001b[38;5;28;01mraise\u001b[39;00m \u001b[38;5;167;01mValueError\u001b[39;00m(\u001b[38;5;124m'\u001b[39m\u001b[38;5;124mOutput array must be C or F contiguous\u001b[39m\u001b[38;5;124m'\u001b[39m)\n",
      "File \u001b[1;32mH:\\Users\\Administrator\\lib\\site-packages\\scipy\\sparse\\base.py:1202\u001b[0m, in \u001b[0;36mspmatrix._process_toarray_args\u001b[1;34m(self, order, out)\u001b[0m\n\u001b[0;32m   1200\u001b[0m     \u001b[38;5;28;01mreturn\u001b[39;00m out\n\u001b[0;32m   1201\u001b[0m \u001b[38;5;28;01melse\u001b[39;00m:\n\u001b[1;32m-> 1202\u001b[0m     \u001b[38;5;28;01mreturn\u001b[39;00m \u001b[43mnp\u001b[49m\u001b[38;5;241;43m.\u001b[39;49m\u001b[43mzeros\u001b[49m\u001b[43m(\u001b[49m\u001b[38;5;28;43mself\u001b[39;49m\u001b[38;5;241;43m.\u001b[39;49m\u001b[43mshape\u001b[49m\u001b[43m,\u001b[49m\u001b[43m \u001b[49m\u001b[43mdtype\u001b[49m\u001b[38;5;241;43m=\u001b[39;49m\u001b[38;5;28;43mself\u001b[39;49m\u001b[38;5;241;43m.\u001b[39;49m\u001b[43mdtype\u001b[49m\u001b[43m,\u001b[49m\u001b[43m \u001b[49m\u001b[43morder\u001b[49m\u001b[38;5;241;43m=\u001b[39;49m\u001b[43morder\u001b[49m\u001b[43m)\u001b[49m\n",
      "\u001b[1;31mMemoryError\u001b[0m: Unable to allocate 34.1 GiB for an array with shape (9531, 480514) and data type float64"
     ]
    }
   ],
   "source": [
    "# Set up the preprocessing steps and the classifier.\n",
    "pipeline = make_pipeline(\n",
    "    TfidfVectorizer(ngram_range=(1,2)),\n",
    "    Normalizer(), \n",
    "    SVC()\n",
    ")\n",
    "\n",
    "model_report(pipeline,'SVC')"
   ]
  },
  {
   "cell_type": "code",
   "execution_count": null,
   "id": "51edb881",
   "metadata": {},
   "outputs": [],
   "source": [
    "# Set up the preprocessing steps and the classifier.\n",
    "pipeline = make_pipeline(\n",
    "    TfidfVectorizer(ngram_range=(1,2)),\n",
    "    Normalizer(), \n",
    "    LogisticRegression()\n",
    ")\n",
    "\n",
    "model_report(pipeline,'Logistic Regression')"
   ]
  },
  {
   "cell_type": "markdown",
   "id": "d4cedf64",
   "metadata": {},
   "source": [
    "By specifying the unigrams and bigrams calculation in the TfIdf vectorization step in both of the models pipelines, the accuracies of each of the models stayed approximately the same, while the training time increased drastically for SVC from 3.4 secs to 24 secs and for Logistic Regression from 3.8 secs to 28 secs, and that's because now the model is trained using a much higher number of features as the pair combination between the terms of the text is now taken into consideration by the model in the training phase."
   ]
  },
  {
   "cell_type": "markdown",
   "id": "41a8602b",
   "metadata": {},
   "source": [
    "### Using sparse functions"
   ]
  },
  {
   "cell_type": "markdown",
   "id": "3ca1bc02",
   "metadata": {},
   "source": [
    "# Sparse SVC"
   ]
  },
  {
   "cell_type": "code",
   "execution_count": null,
   "id": "eae6019d",
   "metadata": {},
   "outputs": [],
   "source": [
    "### Sparse and dense vectors don't collaborate very well in NumPy/SciPy.\n",
    "### Here are two utility functions that help us carry out some vector\n",
    "### operations that we'll need.\n",
    "\n",
    "def add_sparse_to_dense(x, w, factor):\n",
    "    \"\"\"\n",
    "    Adds a sparse vector x, scaled by some factor, to a dense vector.\n",
    "    This can be seen as the equivalent of w += factor * x when x is a dense\n",
    "    vector.\n",
    "    \"\"\"\n",
    "    w[x.indices] += factor * x.data\n",
    "\n",
    "def sparse_dense_dot(x, w):\n",
    "    \"\"\"\n",
    "    Computes the dot product between a sparse vector x and a dense vector w.\n",
    "    \"\"\"\n",
    "    return np.dot(w[x.indices], x.data)\n",
    "\n",
    "\n"
   ]
  },
  {
   "cell_type": "code",
   "execution_count": null,
   "id": "2e8eef7a",
   "metadata": {},
   "outputs": [],
   "source": [
    "class SparseSVC(LinearClassifier):\n",
    "    \"\"\"\n",
    "    A straightforward implementation of the perceptron learning algorithm,\n",
    "    assuming that the input feature matrix X is sparse.\n",
    "    \"\"\"\n",
    "\n",
    "    def __init__(self, n_iter=1000,Lambda=0.001,eta=0.001):\n",
    "        \"\"\"\n",
    "        The constructor can optionally take a parameter n_iter specifying how\n",
    "        many times we want to iterate through the training set.\n",
    "        \"\"\"\n",
    "        self.n_iter = n_iter\n",
    "        self.Lambda = Lambda\n",
    "        self.eta = eta\n",
    "\n",
    "    def fit(self, X, Y):\n",
    "        \"\"\"\n",
    "        Train a linear classifier using the perceptron learning algorithm.\n",
    "        \"\"\"\n",
    "\n",
    "        # First determine which output class will be associated with positive\n",
    "        # and negative scores, respectively.\n",
    "        self.find_classes(Y)\n",
    "\n",
    "        # Convert all outputs to +1 (for the positive class) or -1 (negative).\n",
    "        Ye = self.encode_outputs(Y)\n",
    "\n",
    "        # Initialize the weight vector to all zeros.\n",
    "        n_features = X.shape[1]\n",
    "        \n",
    "        n_instances = X.shape[0]\n",
    "        \n",
    "        self.w = np.zeros(n_features)\n",
    "        \n",
    "        data = list(zip(X, Ye))\n",
    "        \n",
    "        T = np.random.choice(len(data),self.n_iter,replace = False)\n",
    "        \n",
    "        subData = [data[i] for i in T]\n",
    "\n",
    "        for i in range(self.n_iter):\n",
    "            for x, y in subData:\n",
    "                \n",
    "                t = i+1\n",
    "\n",
    "                eta = 1/(self.Lambda*t)\n",
    "\n",
    "                score = sparse_dense_dot(x,self.w)\n",
    "\n",
    "                Yscore = y*score\n",
    "\n",
    "                if Yscore <1:\n",
    "                    add_sparse_to_dense(x, self.w, y/self.Lambda)\n",
    "                    self.w = self.w - eta*self.Lambda*self.w\n",
    "                else:\n",
    "                    w = (1-eta*self.Lambda)*self.w\n",
    "                    \n",
    "                    "
   ]
  },
  {
   "cell_type": "code",
   "execution_count": null,
   "id": "e8d44148",
   "metadata": {},
   "outputs": [],
   "source": [
    "# Set up the preprocessing steps and the classifier.\n",
    "pipeline = make_pipeline(\n",
    "    TfidfVectorizer(),\n",
    "    Normalizer(),\n",
    "    SelectKBest(k=1000),\n",
    "    SparseSVC()\n",
    ")\n",
    "\n",
    "model_report(pipeline,'Sparse SVC')"
   ]
  },
  {
   "cell_type": "markdown",
   "id": "7490797e",
   "metadata": {},
   "source": [
    "using sparse vectors for the mathematical operations included in the SVC model implementation, the model performed quite poorley where it finished the training phase in approximately 9 seconds and with a lower accuracy of approximately 4% than the numpy implementation of the model."
   ]
  },
  {
   "cell_type": "markdown",
   "id": "fe7e7e8a",
   "metadata": {},
   "source": [
    "# Sparse LogisticRegression"
   ]
  },
  {
   "cell_type": "code",
   "execution_count": null,
   "id": "b2d5629e",
   "metadata": {},
   "outputs": [],
   "source": [
    "class SparseLogisticR(LinearClassifier):\n",
    "    \"\"\"\n",
    "    A straightforward implementation of the perceptron learning algorithm.\n",
    "    \"\"\"\n",
    "\n",
    "    def __init__(self, n_iter=1000,Lambda=0.001,eta=0.001):\n",
    "        \"\"\"\n",
    "        The constructor can optionally take a parameter n_iter specifying how\n",
    "        many times we want to iterate through the training set.\n",
    "        \"\"\"\n",
    "        self.n_iter = n_iter\n",
    "        self.Lambda = Lambda\n",
    "        self.eta = eta\n",
    "    \n",
    "\n",
    "    def fit(self, X, Y):\n",
    "        \"\"\"\n",
    "        Train a linear classifier using the perceptron learning algorithm.\n",
    "        \"\"\"\n",
    "\n",
    "        # First determine which output class will be associated with positive\n",
    "        # and negative scores, respectively.\n",
    "        self.find_classes(Y)\n",
    "\n",
    "        # Convert all outputs to +1 (for the positive class) or -1 (negative).\n",
    "        Ye = self.encode_outputs(Y)\n",
    "\n",
    "        # Initialize the weight vector to all zeros.\n",
    "        n_features = X.shape[1]\n",
    "        \n",
    "        n_instances = X.shape[0]\n",
    "        \n",
    "        self.w = np.zeros(n_features)\n",
    "        \n",
    "        data = list(zip(X, Ye))\n",
    "        \n",
    "        T = np.random.choice(len(data),self.n_iter,replace = False)\n",
    "        \n",
    "        subData = [data[i] for i in T]\n",
    "        \n",
    "        t=0\n",
    "        \n",
    "        for i in range(self.n_iter):\n",
    "            \n",
    "            for x, y in subData:\n",
    "                \n",
    "                t=t+1\n",
    "                \n",
    "                eta=1/(self.Lambda*t)\n",
    "                w=1-eta*self.Lambda*self.w             \n",
    "                add_sparse_to_dense(x , self.w,\n",
    "                                    y*eta/(1 + np.exp(y*(sparse_dense_dot(x, self.w)))))"
   ]
  },
  {
   "cell_type": "code",
   "execution_count": null,
   "id": "cff45951",
   "metadata": {
    "scrolled": true
   },
   "outputs": [],
   "source": [
    "# Set up the preprocessing steps and the classifier.\n",
    "pipeline = make_pipeline(\n",
    "    TfidfVectorizer(),\n",
    "    SelectKBest(k=1000),\n",
    "    Normalizer(), \n",
    "    SparseLogisticR()\n",
    ")\n",
    "\n",
    "model_report(pipeline,'Sparse Logistic Regression')"
   ]
  },
  {
   "cell_type": "markdown",
   "id": "aa66bb79",
   "metadata": {},
   "source": [
    "using sparse vectors for the mathematical operations included in the logistic regression model implementation, the model performed quite poorley where it finished the training phase in approximately 17 seconds and with a lower accuracy of approximately 10% than the numpy implementation of the model."
   ]
  },
  {
   "cell_type": "markdown",
   "id": "ab7b80e8",
   "metadata": {},
   "source": [
    "### (c) Speeding up the scaling operation"
   ]
  },
  {
   "cell_type": "code",
   "execution_count": null,
   "id": "e5c45cd2",
   "metadata": {},
   "outputs": [],
   "source": [
    "class SparseLogisticRc(LinearClassifier):\n",
    "    \"\"\"\n",
    "    A straightforward implementation of the perceptron learning algorithm.\n",
    "    \"\"\"\n",
    "\n",
    "    def __init__(self, n_iter=1000,Lambda=0.001,eta=0.001):\n",
    "        \"\"\"\n",
    "        The constructor can optionally take a parameter n_iter specifying how\n",
    "        many times we want to iterate through the training set.\n",
    "        \"\"\"\n",
    "        self.n_iter = n_iter\n",
    "        self.Lambda = Lambda\n",
    "        self.eta = eta\n",
    "    \n",
    "\n",
    "    def fit(self, X, Y):\n",
    "        \"\"\"\n",
    "        Train a linear classifier using the perceptron learning algorithm.\n",
    "        \"\"\"\n",
    "\n",
    "        # First determine which output class will be associated with positive\n",
    "        # and negative scores, respectively.\n",
    "        self.find_classes(Y)\n",
    "\n",
    "        # Convert all outputs to +1 (for the positive class) or -1 (negative).\n",
    "        Ye = self.encode_outputs(Y)\n",
    "\n",
    "        # Initialize the weight vector to all zeros.\n",
    "        n_features = X.shape[1]\n",
    "        \n",
    "        n_instances = X.shape[0]\n",
    "        \n",
    "        self.w = np.zeros(n_features)\n",
    "        \n",
    "        data = list(zip(X, Ye))\n",
    "        \n",
    "        T = np.random.choice(len(data),self.n_iter,replace = False)\n",
    "        \n",
    "        subData = [data[i] for i in T]\n",
    "        \n",
    "        t=0\n",
    "        \n",
    "        #initializing the scaling factor a \n",
    "        a = 1\n",
    "        \n",
    "        for i in range(self.n_iter):\n",
    "            \n",
    "            for x, y in subData:\n",
    "                \n",
    "                t=t+1\n",
    "                \n",
    "                eta=1/(self.Lambda*t)\n",
    "                \n",
    "                #replacing the vector scaling step\n",
    "                a = (1- eta*self.Lambda)*a\n",
    "                \n",
    "                #  division by zero exception, so we added an if statement to\n",
    "                # handle this case by removing the scaling factor if its equal to zero\n",
    "                if a == 0:\n",
    "                    w=1-eta*self.Lambda*self.w             \n",
    "                    add_sparse_to_dense(x , self.w, y*eta/(1 + np.exp(y*(sparse_dense_dot(x, self.w)))))  \n",
    "                    \n",
    "                else:\n",
    "                    add_sparse_to_dense(x , self.w, y*eta/(a*(1 + np.exp(y*(sparse_dense_dot(x, self.w))))))\n",
    "                    self.w *=a\n",
    "                \n",
    "    "
   ]
  },
  {
   "cell_type": "code",
   "execution_count": null,
   "id": "c067d2f6",
   "metadata": {
    "scrolled": false
   },
   "outputs": [],
   "source": [
    "# Set up the preprocessing steps and the classifier.\n",
    "pipeline = make_pipeline(\n",
    "    TfidfVectorizer(),\n",
    "    SelectKBest(k=1000),\n",
    "    Normalizer(), \n",
    "    SparseLogisticRc()\n",
    ")\n",
    "\n",
    "model_report(pipeline,'Sparse Logistic Regression')"
   ]
  },
  {
   "cell_type": "markdown",
   "id": "e70c6023",
   "metadata": {},
   "source": [
    "using the scaling factor <b>a</b> the model showed approximately no improvement than the model implementation using sparse vectors, so we investigate further the effect of replacing the other scaling operations with blas functions"
   ]
  },
  {
   "cell_type": "markdown",
   "id": "af43a80f",
   "metadata": {},
   "source": [
    "### using blas functions for scaling and sparse vectors for other operations:"
   ]
  },
  {
   "cell_type": "code",
   "execution_count": null,
   "id": "005eba23",
   "metadata": {},
   "outputs": [],
   "source": [
    "class SparseLogisticRc2(LinearClassifier):\n",
    "    \"\"\"\n",
    "    A straightforward implementation of the perceptron learning algorithm.\n",
    "    \"\"\"\n",
    "\n",
    "    def __init__(self, n_iter=1000,Lambda=0.001,eta=0.001):\n",
    "        \"\"\"\n",
    "        The constructor can optionally take a parameter n_iter specifying how\n",
    "        many times we want to iterate through the training set.\n",
    "        \"\"\"\n",
    "        self.n_iter = n_iter\n",
    "        self.Lambda = Lambda\n",
    "        self.eta = eta\n",
    "    \n",
    "\n",
    "    def fit(self, X, Y):\n",
    "        \"\"\"\n",
    "        Train a linear classifier using the perceptron learning algorithm.\n",
    "        \"\"\"\n",
    "\n",
    "        # First determine which output class will be associated with positive\n",
    "        # and negative scores, respectively.\n",
    "        self.find_classes(Y)\n",
    "\n",
    "        # Convert all outputs to +1 (for the positive class) or -1 (negative).\n",
    "        Ye = self.encode_outputs(Y)\n",
    "\n",
    "        # Initialize the weight vector to all zeros.\n",
    "        n_features = X.shape[1]\n",
    "        \n",
    "        n_instances = X.shape[0]\n",
    "        \n",
    "        self.w = np.zeros(n_features)\n",
    "        \n",
    "        data = list(zip(X, Ye))\n",
    "        \n",
    "        T = np.random.choice(len(data),self.n_iter,replace = False)\n",
    "        \n",
    "        subData = [data[i] for i in T]\n",
    "        \n",
    "        t=0\n",
    "        \n",
    "        a = 1\n",
    "        \n",
    "        for i in range(self.n_iter):\n",
    "            \n",
    "            for x, y in subData:\n",
    "                \n",
    "                t=t+1\n",
    "                \n",
    "                eta=1/(self.Lambda*t)\n",
    "                \n",
    "                a = (1- eta*self.Lambda)*a\n",
    "                \n",
    "                #  division by zero exception, so we added an if statement to\n",
    "                # handle this case\n",
    "                if a == 0:\n",
    "                    blas.dscal(1-eta*self.Lambda,self.w)             \n",
    "                    add_sparse_to_dense(x , self.w, y*eta/(1 + np.exp(y*(sparse_dense_dot(x, self.w)))))  \n",
    "                    \n",
    "                else:\n",
    "                    add_sparse_to_dense(x , self.w, y*eta/(a*(1 + np.exp(y*(sparse_dense_dot(x, self.w))))))\n",
    "                    blas.dscal(a,self.w)\n",
    "                \n",
    "    \n",
    "\n"
   ]
  },
  {
   "cell_type": "code",
   "execution_count": null,
   "id": "6639f7b7",
   "metadata": {},
   "outputs": [],
   "source": [
    "# Set up the preprocessing steps and the classifier.\n",
    "pipeline = make_pipeline(\n",
    "    TfidfVectorizer(),\n",
    "    SelectKBest(k=1000),\n",
    "    Normalizer(), \n",
    "    SparseLogisticRc2(n_iter=1000,Lambda=0.001,eta=0.001)\n",
    ")\n",
    "\n",
    "model_report(pipeline,'Sparse Logistic Regression with blas scaling functions')"
   ]
  },
  {
   "cell_type": "markdown",
   "id": "2b4c652e",
   "metadata": {},
   "source": [
    "by replacing the vector scaling operations with blas functions in the sparse Logistic Regression model, the model trainging time decreased slightly with 2 seconds, while the model's accuracy increased by approximately 12%"
   ]
  }
 ],
 "metadata": {
  "kernelspec": {
   "display_name": "Python 3 (ipykernel)",
   "language": "python",
   "name": "python3"
  },
  "language_info": {
   "codemirror_mode": {
    "name": "ipython",
    "version": 3
   },
   "file_extension": ".py",
   "mimetype": "text/x-python",
   "name": "python",
   "nbconvert_exporter": "python",
   "pygments_lexer": "ipython3",
   "version": "3.9.12"
  }
 },
 "nbformat": 4,
 "nbformat_minor": 5
}
